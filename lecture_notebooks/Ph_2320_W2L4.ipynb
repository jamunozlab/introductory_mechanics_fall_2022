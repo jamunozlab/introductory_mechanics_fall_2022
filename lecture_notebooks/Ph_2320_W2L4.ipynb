{
  "nbformat": 4,
  "nbformat_minor": 0,
  "metadata": {
    "colab": {
      "provenance": [],
      "name": "Ph-2320-W2L4.ipynb",
      "authorship_tag": "ABX9TyOxDBKlG+QLiaUCNJG6UAP+",
      "include_colab_link": true
    },
    "kernelspec": {
      "name": "python3",
      "display_name": "Python 3"
    },
    "language_info": {
      "name": "python"
    }
  },
  "cells": [
    {
      "cell_type": "markdown",
      "metadata": {
        "id": "view-in-github",
        "colab_type": "text"
      },
      "source": [
        "<a href=\"https://colab.research.google.com/github/jamunozlab/introductory_mechanics_fall_2022/blob/main/lecture_notebooks/Ph_2320_W2L4.ipynb\" target=\"_parent\"><img src=\"https://colab.research.google.com/assets/colab-badge.svg\" alt=\"Open In Colab\"/></a>"
      ]
    },
    {
      "cell_type": "markdown",
      "source": [
        "# Intro\n",
        "\n",
        "One of the huge advantages of computers is that they don't get bored or tired.\n",
        "Two simple and yet incredibly powerful functionalities are \"iterations\"\n",
        "(or \"loops\") and \"functions.\"\n",
        "\n",
        "# Python functions\n",
        "\n",
        "Python **functions** really are a way to reuse code over and over again, perhaps\n",
        "changing numbers or making other changes here and there. They are not mathematical functions, whose definition is 'every element of set X is assigned one and only one element from set Y.' They are actually more powerful, but don't think about that right now. For now, what matters is that you know that every mathematical function can be computed as a Python function. Since every equation, including in physics, is a mathematical function, every physics equation (or 'formula') can be computed using a Python function.\n",
        "\n",
        "To create a Python function, type 'def' then the name that you want to give to the function, open and close parentheses (with no space between the name of the function and the open parenthesis), and the name of the variable(s) to be used in your function goes in between the parentheses. Type colon and press \"enter\" (or \"return\"). Type 4 spaces and write your function, pressing \"enter\" sends you to the next line, where you can write more stuff if you want. At the end, type 'return' and the name of the variable(s) you want to return.\n",
        "\n",
        "```\n",
        "# This is a Python function\n",
        "def name_of_function(variable):\n",
        "    x = variable**2\n",
        "    return x\n",
        "```\n",
        "To 'call' your function, just type the name of the function with appropriate variables. You can call it as many times as you want. Is that easy!\n"
      ],
      "metadata": {
        "id": "e9FyqzpcaETh"
      }
    },
    {
      "cell_type": "code",
      "execution_count": null,
      "metadata": {
        "id": "2vA0UYxGYNtT"
      },
      "outputs": [],
      "source": [
        "# Remember that displacement is a vector\n",
        "def calculate_displacement(final_position, initial_position):\n",
        "  return final_position - initial_position"
      ]
    },
    {
      "cell_type": "code",
      "source": [
        "# Predict!\n",
        "calculate_displacement(final_position=10, initial_position=4)"
      ],
      "metadata": {
        "id": "4CcAwuYNgsBL",
        "colab": {
          "base_uri": "https://localhost:8080/"
        },
        "outputId": "166cd7d5-4989-4073-ec02-e65c3ad9b733"
      },
      "execution_count": null,
      "outputs": [
        {
          "output_type": "execute_result",
          "data": {
            "text/plain": [
              "6"
            ]
          },
          "metadata": {},
          "execution_count": 34
        }
      ]
    },
    {
      "cell_type": "code",
      "source": [
        "# Something I like about physics is that if you are consistent with your\n",
        "# definitions and follow the instructions correctly, you get the correct result\n",
        "# Computing does the same thing!\n",
        "# Applying known and well-tested physics is called 'engineering'\n",
        "# Finding previously unknown but correct instructions is called 'science'\n",
        "# Engineering and science rarely exist in their pure forms, typically what we call\n",
        "# engineering is 80 percent engineering and 20 percent science, and vice versa"
      ],
      "metadata": {
        "id": "2T_ENp2Rg4sX"
      },
      "execution_count": null,
      "outputs": []
    },
    {
      "cell_type": "code",
      "source": [
        "# Predict!\n",
        "calculate_displacement(final_position=4, initial_position=10)"
      ],
      "metadata": {
        "colab": {
          "base_uri": "https://localhost:8080/"
        },
        "id": "lG0x9KH1jRxI",
        "outputId": "7303b2de-290e-4389-c645-a2cc314efa39"
      },
      "execution_count": null,
      "outputs": [
        {
          "output_type": "execute_result",
          "data": {
            "text/plain": [
              "-6"
            ]
          },
          "metadata": {},
          "execution_count": 35
        }
      ]
    },
    {
      "cell_type": "code",
      "source": [
        "# Predict!\n",
        "calculate_displacement(final_position=10, initial_position=-2)"
      ],
      "metadata": {
        "colab": {
          "base_uri": "https://localhost:8080/"
        },
        "id": "j1oaRasslFdM",
        "outputId": "da590441-0443-4c47-d0cd-9a07008ff84e"
      },
      "execution_count": null,
      "outputs": [
        {
          "output_type": "execute_result",
          "data": {
            "text/plain": [
              "12"
            ]
          },
          "metadata": {},
          "execution_count": 36
        }
      ]
    },
    {
      "cell_type": "code",
      "source": [
        "# Predict!\n",
        "calculate_displacement(final_position=-2, initial_position=10)"
      ],
      "metadata": {
        "colab": {
          "base_uri": "https://localhost:8080/"
        },
        "id": "ae3Tn6dclKie",
        "outputId": "117706b7-9cef-441e-85e7-c253ec144029"
      },
      "execution_count": null,
      "outputs": [
        {
          "output_type": "execute_result",
          "data": {
            "text/plain": [
              "-12"
            ]
          },
          "metadata": {},
          "execution_count": 37
        }
      ]
    },
    {
      "cell_type": "code",
      "source": [
        "# Time is a scalar\n",
        "# Dividing a vector (the displacement) by a scalar (the time)\n",
        "# results in a vector, so velocity is a vector. \n",
        "def calculate_velocity(displacement, delta_time):\n",
        "  return displacement / delta_time"
      ],
      "metadata": {
        "id": "H3XOzOXWhO-B"
      },
      "execution_count": null,
      "outputs": []
    },
    {
      "cell_type": "code",
      "source": [
        "# Initial position is -10 meters and final position is 4 meters\n",
        "# This motion takes 6 seconds \n",
        "# What is the velocity? \n",
        "# Do it first in 2 steps\n",
        "\n",
        "calculate_displacement(final_position=4, initial_position=-10)"
      ],
      "metadata": {
        "colab": {
          "base_uri": "https://localhost:8080/"
        },
        "id": "AsCN6DPsiRbD",
        "outputId": "4f208c6e-3f87-4fd4-df29-32a12408483e"
      },
      "execution_count": null,
      "outputs": [
        {
          "output_type": "execute_result",
          "data": {
            "text/plain": [
              "14"
            ]
          },
          "metadata": {},
          "execution_count": 38
        }
      ]
    },
    {
      "cell_type": "code",
      "source": [
        "calculate_velocity(displacement=14, delta_time=6) # meters per second"
      ],
      "metadata": {
        "colab": {
          "base_uri": "https://localhost:8080/"
        },
        "id": "aptUbWRkozYv",
        "outputId": "b63cd5d2-c73e-483e-c387-1c774affd1c4"
      },
      "execution_count": null,
      "outputs": [
        {
          "output_type": "execute_result",
          "data": {
            "text/plain": [
              "2.3333333333333335"
            ]
          },
          "metadata": {},
          "execution_count": 39
        }
      ]
    },
    {
      "cell_type": "code",
      "source": [
        "# Do it in 1 step\n",
        "calculate_velocity(displacement=calculate_displacement(final_position=4, initial_position=-10), delta_time=6) # meters per second"
      ],
      "metadata": {
        "colab": {
          "base_uri": "https://localhost:8080/"
        },
        "id": "ogTGv2Qxo-m6",
        "outputId": "f0c71d6c-9877-4bfa-914d-b61232623e16"
      },
      "execution_count": null,
      "outputs": [
        {
          "output_type": "execute_result",
          "data": {
            "text/plain": [
              "2.3333333333333335"
            ]
          },
          "metadata": {},
          "execution_count": 40
        }
      ]
    },
    {
      "cell_type": "code",
      "source": [
        "# You can specify the values outside of the function\n",
        "final_position = 4 #meters\n",
        "initial_position = -10 # meters\n",
        "delta_time = 6 #seconds\n",
        "calculate_velocity(displacement=calculate_displacement(final_position=final_position, initial_position=initial_position), delta_time=delta_time) # meters per second"
      ],
      "metadata": {
        "colab": {
          "base_uri": "https://localhost:8080/"
        },
        "id": "xx1XPXtsoccP",
        "outputId": "c2e7d6bf-2162-4a7d-d94f-7aef40f570a8"
      },
      "execution_count": null,
      "outputs": [
        {
          "output_type": "execute_result",
          "data": {
            "text/plain": [
              "2.3333333333333335"
            ]
          },
          "metadata": {},
          "execution_count": 43
        }
      ]
    },
    {
      "cell_type": "code",
      "source": [
        "# This makes it a bit easier to read, taking advantage of the Python 'syntax'\n",
        "# But don't worry if you did not follow this last step, just encode in your brain\n",
        "# that this gives you the velocity and use it as a black box for now\n",
        "final_position = 4 #meters\n",
        "initial_position = -10 # meters\n",
        "delta_time = 6 #seconds\n",
        "calculate_velocity(calculate_displacement(final_position, initial_position), delta_time) # meters per second"
      ],
      "metadata": {
        "colab": {
          "base_uri": "https://localhost:8080/"
        },
        "id": "_ikgiInRp5J5",
        "outputId": "4b9ae023-349b-45b6-d29c-4ec17e8f5900"
      },
      "execution_count": null,
      "outputs": [
        {
          "output_type": "execute_result",
          "data": {
            "text/plain": [
              "2.3333333333333335"
            ]
          },
          "metadata": {},
          "execution_count": 44
        }
      ]
    },
    {
      "cell_type": "code",
      "source": [
        "# Predict!\n",
        "final_position = -4 #meters\n",
        "initial_position = 10 # meters\n",
        "delta_time = 6 #seconds\n",
        "calculate_velocity(calculate_displacement(final_position, initial_position), delta_time) # meters per second"
      ],
      "metadata": {
        "colab": {
          "base_uri": "https://localhost:8080/"
        },
        "id": "95wgRVZzqF11",
        "outputId": "c68f0ec1-0fd2-4371-b9b2-3ce205c3010d"
      },
      "execution_count": null,
      "outputs": [
        {
          "output_type": "execute_result",
          "data": {
            "text/plain": [
              "-2.3333333333333335"
            ]
          },
          "metadata": {},
          "execution_count": 45
        }
      ]
    },
    {
      "cell_type": "code",
      "source": [
        "# As a human, you might think that the sign of a vector is unimportant, but \n",
        "# vectors are made out of a sign and a number and both are equally important\n",
        "# If your sign is wrong, all your calculations will be wrong \n",
        "# Q: What is the difference between positive force and negative force?\n",
        "# A: Your bridge collapses or not"
      ],
      "metadata": {
        "id": "5fpiBxqhrCYD"
      },
      "execution_count": null,
      "outputs": []
    },
    {
      "cell_type": "markdown",
      "source": [
        "# Python 'for' loop\n",
        "\n",
        "\n",
        "\n",
        "```\n",
        "# This is a Python 'for' loop\n",
        "for variable in list_of_variables:\n",
        "    do_something(variable)\n",
        "```\n",
        "\n"
      ],
      "metadata": {
        "id": "MLsL6BM9t-Ny"
      }
    },
    {
      "cell_type": "code",
      "source": [
        "initial_position = -4\n",
        "final_positions = [-6, -4, -2, 0, 2, 4, 6, 9]\n",
        "for final_position in final_positions: #notice the 's'\n",
        "  displacement = calculate_displacement(final_position=final_position, initial_position=initial_position)\n",
        "  print('Initial position:', initial_position, 'meters')\n",
        "  print('Final position:', final_position, 'meters')\n",
        "  print('Displacement:', displacement, 'meters')\n",
        "  print()"
      ],
      "metadata": {
        "colab": {
          "base_uri": "https://localhost:8080/"
        },
        "id": "74SQ1UMIt7C4",
        "outputId": "4cc4f05e-a19f-400e-8759-160ed12284c6"
      },
      "execution_count": null,
      "outputs": [
        {
          "output_type": "stream",
          "name": "stdout",
          "text": [
            "Initial position: -4 meters\n",
            "Final position: -6 meters\n",
            "Displacement: -2 meters\n",
            "\n",
            "Initial position: -4 meters\n",
            "Final position: -4 meters\n",
            "Displacement: 0 meters\n",
            "\n",
            "Initial position: -4 meters\n",
            "Final position: -2 meters\n",
            "Displacement: 2 meters\n",
            "\n",
            "Initial position: -4 meters\n",
            "Final position: 0 meters\n",
            "Displacement: 4 meters\n",
            "\n",
            "Initial position: -4 meters\n",
            "Final position: 2 meters\n",
            "Displacement: 6 meters\n",
            "\n",
            "Initial position: -4 meters\n",
            "Final position: 4 meters\n",
            "Displacement: 8 meters\n",
            "\n",
            "Initial position: -4 meters\n",
            "Final position: 6 meters\n",
            "Displacement: 10 meters\n",
            "\n",
            "Initial position: -4 meters\n",
            "Final position: 9 meters\n",
            "Displacement: 13 meters\n",
            "\n"
          ]
        }
      ]
    },
    {
      "cell_type": "code",
      "source": [
        "initial_position = -4 # meters\n",
        "final_positions = [-6, -4, -2, 0, 2, 4, 6, 8] # meters\n",
        "delta_time = 6 # seconds\n",
        "for final_position in final_positions: #notice the 's'\n",
        "  displacement = calculate_displacement(final_position=final_position, initial_position=initial_position)\n",
        "  velocity = calculate_velocity(calculate_displacement(final_position, initial_position), delta_time)\n",
        "\n",
        "  print('Initial position:', initial_position, 'meters')\n",
        "  print('Final position:', final_position, 'meters')\n",
        "  print('Displacement:', displacement, 'meters')\n",
        "  print('It took', delta_time, 'seconds, so average velocity is:', velocity, 'meters per seconds')\n",
        "  print()"
      ],
      "metadata": {
        "colab": {
          "base_uri": "https://localhost:8080/"
        },
        "id": "_iUbfjJ6vnXc",
        "outputId": "5ff76f30-130a-46ac-fa48-75df1c97053d"
      },
      "execution_count": null,
      "outputs": [
        {
          "output_type": "stream",
          "name": "stdout",
          "text": [
            "Initial position: -4 meters\n",
            "Final position: -6 meters\n",
            "Displacement: -2 meters\n",
            "It took 6 seconds, so average velocity is: -0.3333333333333333 meters per seconds\n",
            "\n",
            "Initial position: -4 meters\n",
            "Final position: -4 meters\n",
            "Displacement: 0 meters\n",
            "It took 6 seconds, so average velocity is: 0.0 meters per seconds\n",
            "\n",
            "Initial position: -4 meters\n",
            "Final position: -2 meters\n",
            "Displacement: 2 meters\n",
            "It took 6 seconds, so average velocity is: 0.3333333333333333 meters per seconds\n",
            "\n",
            "Initial position: -4 meters\n",
            "Final position: 0 meters\n",
            "Displacement: 4 meters\n",
            "It took 6 seconds, so average velocity is: 0.6666666666666666 meters per seconds\n",
            "\n",
            "Initial position: -4 meters\n",
            "Final position: 2 meters\n",
            "Displacement: 6 meters\n",
            "It took 6 seconds, so average velocity is: 1.0 meters per seconds\n",
            "\n",
            "Initial position: -4 meters\n",
            "Final position: 4 meters\n",
            "Displacement: 8 meters\n",
            "It took 6 seconds, so average velocity is: 1.3333333333333333 meters per seconds\n",
            "\n",
            "Initial position: -4 meters\n",
            "Final position: 6 meters\n",
            "Displacement: 10 meters\n",
            "It took 6 seconds, so average velocity is: 1.6666666666666667 meters per seconds\n",
            "\n",
            "Initial position: -4 meters\n",
            "Final position: 8 meters\n",
            "Displacement: 12 meters\n",
            "It took 6 seconds, so average velocity is: 2.0 meters per seconds\n",
            "\n"
          ]
        }
      ]
    },
    {
      "cell_type": "code",
      "source": [
        "initial_position = -4 # meters\n",
        "final_positions = [-6, -4, -2, 0, 2, 4, 6, 8] # meters\n",
        "delta_time = 6 # seconds\n",
        "for final_position in final_positions: #notice the 's'\n",
        "  displacement = calculate_displacement(final_position=final_position, initial_position=initial_position)\n",
        "  velocity = calculate_velocity(calculate_displacement(final_position, initial_position), delta_time)\n"
      ],
      "metadata": {
        "id": "AkOxZXiTwR-i"
      },
      "execution_count": null,
      "outputs": []
    }
  ]
}