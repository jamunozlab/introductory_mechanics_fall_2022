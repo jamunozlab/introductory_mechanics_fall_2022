{
  "nbformat": 4,
  "nbformat_minor": 0,
  "metadata": {
    "colab": {
      "name": "Ph-2320-W1L2.ipynb",
      "provenance": [],
      "authorship_tag": "ABX9TyNclSKWtDlEsFMoAEegDGBC",
      "include_colab_link": true
    },
    "kernelspec": {
      "name": "python3",
      "display_name": "Python 3"
    },
    "language_info": {
      "name": "python"
    }
  },
  "cells": [
    {
      "cell_type": "markdown",
      "metadata": {
        "id": "view-in-github",
        "colab_type": "text"
      },
      "source": [
        "<a href=\"https://colab.research.google.com/github/jamunozlab/introductory_mechanics_fall_2022/blob/main/lecture_notebooks/Ph_2320_W1L2.ipynb\" target=\"_parent\"><img src=\"https://colab.research.google.com/assets/colab-badge.svg\" alt=\"Open In Colab\"/></a>"
      ]
    },
    {
      "cell_type": "code",
      "execution_count": null,
      "metadata": {
        "id": "13YWyKv3ZBqP"
      },
      "outputs": [],
      "source": [
        "import pandas as pd"
      ]
    },
    {
      "cell_type": "code",
      "source": [
        "time = [0, 1, 2, 3, 4, 5] # Let's say these are seconds\n",
        "position = [0, -2, -4, -6, -8, -10] # Let's say these are meters"
      ],
      "metadata": {
        "id": "lPcFR9UVZDFo"
      },
      "execution_count": null,
      "outputs": []
    },
    {
      "cell_type": "code",
      "source": [
        "pretty_plot = pd.Series(position, index=time)\n",
        "pretty_plot.plot(xlabel='time (seconds)', ylabel='position (meters)')"
      ],
      "metadata": {
        "id": "AGyHdCui0sD9",
        "colab": {
          "base_uri": "https://localhost:8080/",
          "height": 317
        },
        "outputId": "5bb8c3a2-2179-4fbc-be77-2e4ce6627c6e"
      },
      "execution_count": null,
      "outputs": [
        {
          "output_type": "execute_result",
          "data": {
            "text/plain": [
              "<matplotlib.axes._subplots.AxesSubplot at 0x7fcd2633ebd0>"
            ]
          },
          "metadata": {},
          "execution_count": 3
        },
        {
          "output_type": "display_data",
          "data": {
            "text/plain": [
              "<Figure size 432x288 with 1 Axes>"
            ],
            "image/png": "[encoded data removed]"
          },
          "metadata": {
            "needs_background": "light"
          }
        }
      ]
    },
    {
      "cell_type": "code",
      "source": [
        "# What is the displacement between 0 seconds and 5 seconds?\n",
        "# Change is always final minus initial, so it would be position at 5 seconds (final) minus position at 0 seconds (initial)\n",
        "\n",
        "displacement = (-10) - (0) \n",
        "displacement"
      ],
      "metadata": {
        "id": "Xpnu14e_0-Wl",
        "colab": {
          "base_uri": "https://localhost:8080/"
        },
        "outputId": "23751865-a1df-4f6b-9fbb-6f26e8b7a04b"
      },
      "execution_count": null,
      "outputs": [
        {
          "output_type": "execute_result",
          "data": {
            "text/plain": [
              "-10"
            ]
          },
          "metadata": {},
          "execution_count": 4
        }
      ]
    },
    {
      "cell_type": "code",
      "source": [
        "# What is the displacement between 1 second and 4 seconds?\n",
        "# Change is always final minus initial, so it would be position\n",
        "\n",
        "displacement = (-8) - (-2) \n",
        "displacement"
      ],
      "metadata": {
        "id": "Ao0We0s13_pp",
        "colab": {
          "base_uri": "https://localhost:8080/"
        },
        "outputId": "06460ffe-c3c7-4b31-9f9b-779017d17b91"
      },
      "execution_count": null,
      "outputs": [
        {
          "output_type": "execute_result",
          "data": {
            "text/plain": [
              "-6"
            ]
          },
          "metadata": {},
          "execution_count": 5
        }
      ]
    },
    {
      "cell_type": "code",
      "source": [
        "# Ignore this if confusing right now, but we do not need to write down the values explicitely. We can just call them.\n",
        "# Python starts at position zero\n",
        "position[0]"
      ],
      "metadata": {
        "id": "qSF7YYE36ti7",
        "colab": {
          "base_uri": "https://localhost:8080/"
        },
        "outputId": "3c9223bd-b5c7-4af8-cf7d-d9c3d8a751e2"
      },
      "execution_count": null,
      "outputs": [
        {
          "output_type": "execute_result",
          "data": {
            "text/plain": [
              "0"
            ]
          },
          "metadata": {},
          "execution_count": 56
        }
      ]
    },
    {
      "cell_type": "code",
      "source": [
        "# Ignore this if confusing right now, but we do not need to write down the values explicitely. We can just call them.\n",
        "# So the last element in the list we created is at position 5. There are still 6 elements.\n",
        "position[5]"
      ],
      "metadata": {
        "id": "RX1pYQbK7RQP",
        "colab": {
          "base_uri": "https://localhost:8080/"
        },
        "outputId": "2dd0e174-7317-404a-ce2a-ff90e2703734"
      },
      "execution_count": null,
      "outputs": [
        {
          "output_type": "execute_result",
          "data": {
            "text/plain": [
              "-10"
            ]
          },
          "metadata": {},
          "execution_count": 57
        }
      ]
    },
    {
      "cell_type": "code",
      "source": [
        "# Ignore this if confusing right now, but we do not need to write down the values explicitely. We can just call them.\n",
        "# What is the displacement between 0 seconds and 5 seconds? So element in position 6 and in position 0\n",
        "# Change is always final minus initial, so it would be position at 5 seconds (final) minus position at 0 seconds (initial)\n",
        "\n",
        "displacement = position[5] - position[0]\n",
        "displacement"
      ],
      "metadata": {
        "id": "kojlnEw57H7p",
        "colab": {
          "base_uri": "https://localhost:8080/"
        },
        "outputId": "ea0fd694-00f8-42ea-c5f4-2edb8485e611"
      },
      "execution_count": null,
      "outputs": [
        {
          "output_type": "execute_result",
          "data": {
            "text/plain": [
              "-10"
            ]
          },
          "metadata": {},
          "execution_count": 58
        }
      ]
    },
    {
      "cell_type": "code",
      "source": [
        "# Velocity is a vector, it is defined as the displacement (change in position) divided by a time period (change in time)\n",
        "# What is the average velocity between 0 seconds and 5 seconds?\n",
        "\n",
        "velocity = ( (-10) - (0) ) / ( (5) - (0) )\n",
        "velocity"
      ],
      "metadata": {
        "id": "_KV0t7sL4Uks",
        "colab": {
          "base_uri": "https://localhost:8080/"
        },
        "outputId": "59572043-558e-48d6-91b6-4fdad3b5e1bd"
      },
      "execution_count": null,
      "outputs": [
        {
          "output_type": "execute_result",
          "data": {
            "text/plain": [
              "-2.0"
            ]
          },
          "metadata": {},
          "execution_count": 59
        }
      ]
    },
    {
      "cell_type": "code",
      "source": [
        "# Velocity is a vector, it is defined as the displacement (change in position) divided by a time period (change in time)\n",
        "# What is the average velocity between 1 second and 4 seconds?\n",
        "\n",
        "velocity = ( (-8) - (-2) ) / ( (4) - (1) )\n",
        "velocity"
      ],
      "metadata": {
        "id": "G4khIoJ55xbn",
        "colab": {
          "base_uri": "https://localhost:8080/"
        },
        "outputId": "e121c8d5-17cd-4360-93fb-004d2bf9c2df"
      },
      "execution_count": null,
      "outputs": [
        {
          "output_type": "execute_result",
          "data": {
            "text/plain": [
              "-2.0"
            ]
          },
          "metadata": {},
          "execution_count": 60
        }
      ]
    },
    {
      "cell_type": "code",
      "source": [
        "# Ignore this if confusing right now, but we do not need to write down the values explicitely. We can just call them.\n",
        "\n",
        "velocity = ( position[5] - position[0] ) / ( time[5] - time[0] )\n",
        "velocity"
      ],
      "metadata": {
        "id": "VlkFnCBL8jiJ",
        "colab": {
          "base_uri": "https://localhost:8080/"
        },
        "outputId": "d66db73f-7b2f-4bf6-c065-86d8b604021e"
      },
      "execution_count": null,
      "outputs": [
        {
          "output_type": "execute_result",
          "data": {
            "text/plain": [
              "-2.0"
            ]
          },
          "metadata": {},
          "execution_count": 61
        }
      ]
    },
    {
      "cell_type": "code",
      "source": [
        "# Let's do an example with acceleration following a quadratic equation. In this case:\n",
        "time = [0, 1, 2, 3, 4, 5] # Let's say these are seconds\n",
        "position = [0, -(2**2), -(4**2), -(6**2), -(8**2), -(10**2)] # Let's say these are meters"
      ],
      "metadata": {
        "id": "bWD96BHF6CZ5"
      },
      "execution_count": null,
      "outputs": []
    },
    {
      "cell_type": "code",
      "source": [
        "# Notice that below I am using the same code as before\n",
        "motion_diagram = pd.Series(position, index=time)\n",
        "motion_diagram.plot(xlabel='time (seconds)', ylabel='position (meters)')"
      ],
      "metadata": {
        "id": "EmR7wvPe6fKB",
        "colab": {
          "base_uri": "https://localhost:8080/",
          "height": 297
        },
        "outputId": "4ed45b8c-3fe7-4b82-f409-b54229b27783"
      },
      "execution_count": null,
      "outputs": [
        {
          "output_type": "execute_result",
          "data": {
            "text/plain": [
              "<matplotlib.axes._subplots.AxesSubplot at 0x7f27e6e7fb10>"
            ]
          },
          "metadata": {},
          "execution_count": 63
        },
        {
          "output_type": "display_data",
          "data": {
            "text/plain": [
              "<Figure size 432x288 with 1 Axes>"
            ],
            "image/png": "[encoded data removed]"
          },
          "metadata": {
            "needs_background": "light"
          }
        }
      ]
    },
    {
      "cell_type": "code",
      "source": [
        "print(position)\n",
        "print(time)"
      ],
      "metadata": {
        "id": "0UWMrwEq8PTC",
        "colab": {
          "base_uri": "https://localhost:8080/"
        },
        "outputId": "ff45836c-358c-4a64-e8c2-154aca3d4db5"
      },
      "execution_count": null,
      "outputs": [
        {
          "output_type": "stream",
          "name": "stdout",
          "text": [
            "[0, -4, -16, -36, -64, -100]\n",
            "[0, 1, 2, 3, 4, 5]\n"
          ]
        }
      ]
    },
    {
      "cell_type": "code",
      "source": [
        "# What is the displacement between 0 seconds and 5 seconds?\n",
        "# Change is always final minus initial, so it would be position at 5 seconds (final) minus position at 0 seconds (initial)\n",
        "\n",
        "displacement = (-100) - (0) \n",
        "displacement"
      ],
      "metadata": {
        "id": "gSVgi-kW6jsI",
        "colab": {
          "base_uri": "https://localhost:8080/"
        },
        "outputId": "568e5088-caa8-4d7d-fb2b-e76293982879"
      },
      "execution_count": null,
      "outputs": [
        {
          "output_type": "execute_result",
          "data": {
            "text/plain": [
              "-100"
            ]
          },
          "metadata": {},
          "execution_count": 65
        }
      ]
    },
    {
      "cell_type": "code",
      "source": [
        "# Ignore this if confusing right now, but we do not need to write down the values explicitely. We can just call them.\n",
        "# What is the displacement between 0 seconds and 5 seconds? So element in position 6 and in position 0\n",
        "# Change is always final minus initial, so it would be position at 5 seconds (final) minus position at 0 seconds (initial)\n",
        "\n",
        "displacement = position[5] - position[0]\n",
        "displacement"
      ],
      "metadata": {
        "id": "Bum9F6cp8a0B",
        "colab": {
          "base_uri": "https://localhost:8080/"
        },
        "outputId": "a0c366a3-cf77-47b5-8344-8af1ef37b6d8"
      },
      "execution_count": null,
      "outputs": [
        {
          "output_type": "execute_result",
          "data": {
            "text/plain": [
              "-100"
            ]
          },
          "metadata": {},
          "execution_count": 66
        }
      ]
    },
    {
      "cell_type": "code",
      "source": [
        "# Ignore this if confusing right now, but we do not need to write down the values explicitely. We can just call them.\n",
        "# The average velocity is not constant, so the period we pick matters\n",
        "\n",
        "velocity = ( position[5] - position[0] ) / ( time[5] - time[0] )\n",
        "velocity"
      ],
      "metadata": {
        "id": "tnRJd9us8e6N",
        "colab": {
          "base_uri": "https://localhost:8080/"
        },
        "outputId": "8513da19-0a6d-45b1-af0c-cdcea7dcc506"
      },
      "execution_count": null,
      "outputs": [
        {
          "output_type": "execute_result",
          "data": {
            "text/plain": [
              "-20.0"
            ]
          },
          "metadata": {},
          "execution_count": 67
        }
      ]
    },
    {
      "cell_type": "code",
      "source": [
        "# Ignore this if confusing right now, but we do not need to write down the values explicitely. We can just call them.\n",
        "# The average velocity is not constant, so the period we pick matters\n",
        "\n",
        "velocity = ( position[5] - position[1] ) / ( time[5] - time[1] )\n",
        "velocity"
      ],
      "metadata": {
        "id": "XNuIBNxD88WX",
        "colab": {
          "base_uri": "https://localhost:8080/"
        },
        "outputId": "cce36836-cc60-4b0d-94e8-d375b8b20ea6"
      },
      "execution_count": null,
      "outputs": [
        {
          "output_type": "execute_result",
          "data": {
            "text/plain": [
              "-24.0"
            ]
          },
          "metadata": {},
          "execution_count": 68
        }
      ]
    },
    {
      "cell_type": "code",
      "source": [
        "# Ignore this if confusing right now, but we do not need to write down the values explicitely. We can just call them.\n",
        "# The average velocity is not constant, so the period we pick matters\n",
        "\n",
        "velocity = ( position[5] - position[2] ) / ( time[5] - time[2] )\n",
        "velocity"
      ],
      "metadata": {
        "id": "glNQF-J-8-_R",
        "colab": {
          "base_uri": "https://localhost:8080/"
        },
        "outputId": "5dbe9e71-fbe0-4b8f-cc2d-28f76aff8817"
      },
      "execution_count": null,
      "outputs": [
        {
          "output_type": "execute_result",
          "data": {
            "text/plain": [
              "-28.0"
            ]
          },
          "metadata": {},
          "execution_count": 69
        }
      ]
    },
    {
      "cell_type": "code",
      "source": [],
      "metadata": {
        "id": "1DnJlo-dOar1"
      },
      "execution_count": null,
      "outputs": []
    }
  ]
}